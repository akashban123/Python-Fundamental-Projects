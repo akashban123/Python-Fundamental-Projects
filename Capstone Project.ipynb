{
 "cells": [
  {
   "cell_type": "code",
   "execution_count": 9,
   "id": "a21a6804-905d-4f58-ac46-20f70d545bf3",
   "metadata": {},
   "outputs": [],
   "source": [
    "import pandas as pd"
   ]
  },
  {
   "cell_type": "code",
   "execution_count": 3,
   "id": "31756e82-e4ed-4134-8d4e-7e17458b68bb",
   "metadata": {},
   "outputs": [],
   "source": [
    "data = pd.DataFrame[\n",
    "    {\"ID\": \"A001\", \"Project\": \"Project 1\", \"Cost\": 1002000, \"Status\": \"Finished\"},\n",
    "    {\"ID\": \"A002\", \"Project\": \"Project 2\", \"Cost\": 2000000, \"Status\": \"Ongoing\"},\n",
    "    {\"ID\": \"A003\", \"Project\": \"Project 3\", \"Cost\": 4500000, \"Status\": \"Finished\"},\n",
    "    {\"ID\": \"A004\", \"Project\": \"Project 4\", \"Cost\": 5500000, \"Status\": \"Ongoing\"},\n",
    "    {\"ID\": \"A005\", \"Project\": \"Project 5\", \"Cost\": None, \"Status\": \"Finished\"},\n",
    "    {\"ID\": \"A002\", \"Project\": \"Project 6\", \"Cost\": 680000, \"Status\": \"Failed\"},\n",
    "    {\"ID\": \"A005\", \"Project\": \"Project 7\", \"Cost\": 400000, \"Status\": \"Finished\"},\n",
    "    {\"ID\": \"A003\", \"Project\": \"Project 8\", \"Cost\": 350000, \"Status\": \"Failed\"},\n",
    "    {\"ID\": \"A001\", \"Project\": \"Project 9\", \"Cost\": None, \"Status\": \"Ongoing\"},\n",
    "    {\"ID\": \"A003\", \"Project\": \"Project 10\", \"Cost\": 300000, \"Status\": \"Finished\"},\n",
    "    {\"ID\": \"A001\", \"Project\": \"Project 11\", \"Cost\": 2000000, \"Status\": \"Failed\"},\n",
    "    {\"ID\": \"A004\", \"Project\": \"Project 12\", \"Cost\": 1000000, \"Status\": \"Ongoing\"},\n",
    "    {\"ID\": \"A004\", \"Project\": \"Project 13\", \"Cost\": 3000000, \"Status\": \"Finished\"},\n",
    "    {\"ID\": \"A005\", \"Project\": \"Project 14\", \"Cost\": 200000, \"Status\": \"Finished\"},\n",
    "]"
   ]
  },
  {
   "cell_type": "code",
   "execution_count": 13,
   "id": "a3cb880f-3d1f-4ca8-8342-cf54cf5bb0a0",
   "metadata": {},
   "outputs": [],
   "source": [
    "df = pd.DataFrame(data)"
   ]
  },
  {
   "cell_type": "code",
   "execution_count": 15,
   "id": "a2fe51a0-6ec7-48f4-984e-79f3bae70e7f",
   "metadata": {},
   "outputs": [],
   "source": [
    "df.to_csv(\"One_data.csv\", index=False)"
   ]
  },
  {
   "cell_type": "code",
   "execution_count": 17,
   "id": "81f465ac-4956-49a4-99b0-01a6143bdd3e",
   "metadata": {},
   "outputs": [],
   "source": [
    "seniority_data = [\n",
    "    {\"ID\": \"A001\", \"Designation Level\": 2},\n",
    "    {\"ID\": \"A002\", \"Designation Level\": 2},\n",
    "    {\"ID\": \"A003\", \"Designation Level\": 3},\n",
    "    {\"ID\": \"A004\", \"Designation Level\": 2},\n",
    "    {\"ID\": \"A005\", \"Designation Level\": 3},\n",
    "]"
   ]
  },
  {
   "cell_type": "code",
   "execution_count": 18,
   "id": "69edc080-e454-4418-be18-d8d03e680c40",
   "metadata": {},
   "outputs": [],
   "source": [
    "seniority_df = pd.DataFrame(seniority_data)"
   ]
  },
  {
   "cell_type": "code",
   "execution_count": 19,
   "id": "b7243fa9-b7aa-445a-9fca-76255f28789a",
   "metadata": {},
   "outputs": [],
   "source": [
    "seniority_df.to_csv(\"Two_data.csv\", index=False)"
   ]
  },
  {
   "cell_type": "code",
   "execution_count": 20,
   "id": "b5de2c1f-f7a8-4e8d-9bcb-e5173015c12c",
   "metadata": {},
   "outputs": [],
   "source": [
    "employee_data = [\n",
    "    {\"ID\": \"A001\", \"Name\": \"John Alter\", \"Gender\": \"M\", \"City\": \"Paris\", \"Age\": 25},\n",
    "    {\"ID\": \"A002\", \"Name\": \"Alice Luxumberg\", \"Gender\": \"F\", \"City\": \"London\", \"Age\": 27},\n",
    "    {\"ID\": \"A003\", \"Name\": \"Tom Sabestine\", \"Gender\": \"M\", \"City\": \"Berlin\", \"Age\": 29},\n",
    "    {\"ID\": \"A004\", \"Name\": \"Nina Adgra\", \"Gender\": \"F\", \"City\": \"Newyork\", \"Age\": 31},\n",
    "    {\"ID\": \"A005\", \"Name\": \"Amy Johny\", \"Gender\": \"F\", \"City\": \"Madrid\", \"Age\": 30},\n",
    "]"
   ]
  },
  {
   "cell_type": "code",
   "execution_count": 21,
   "id": "a3c0f0a0-962e-44b8-b021-73d9d77f84a7",
   "metadata": {},
   "outputs": [],
   "source": [
    "employee_df = pd.DataFrame(employee_data)"
   ]
  },
  {
   "cell_type": "code",
   "execution_count": 22,
   "id": "d4bc4786-2f5e-4f42-86fb-46222dba926d",
   "metadata": {},
   "outputs": [],
   "source": [
    "employee_df.to_csv(\"three_data.csv\", index=False)"
   ]
  },
  {
   "cell_type": "code",
   "execution_count": null,
   "id": "d61e8609-80b6-4898-8cc1-92c8f4e28dad",
   "metadata": {},
   "outputs": [],
   "source": [
    "Task 2:-The cost column in the dataframe “Project” has some missing values. Your task is to compute these missing values. Replace the missing values by running average. You should use the “For” loop for this task."
   ]
  },
  {
   "cell_type": "code",
   "execution_count": 24,
   "id": "cf4c69d7-c87b-4afc-b439-779692ae36d6",
   "metadata": {},
   "outputs": [],
   "source": [
    "data = [\n",
    "    {\"ID\": \"A001\", \"Project\": \"Project 1\", \"Cost\": 1002000, \"Status\": \"Finished\"},\n",
    "    {\"ID\": \"A002\", \"Project\": \"Project 2\", \"Cost\": 2000000, \"Status\": \"Ongoing\"},\n",
    "    {\"ID\": \"A003\", \"Project\": \"Project 3\", \"Cost\": 4500000, \"Status\": \"Finished\"},\n",
    "    {\"ID\": \"A004\", \"Project\": \"Project 4\", \"Cost\": 5500000, \"Status\": \"Ongoing\"},\n",
    "    {\"ID\": \"A005\", \"Project\": \"Project 5\", \"Cost\": None,     \"Status\": \"Finished\"},\n",
    "    {\"ID\": \"A002\", \"Project\": \"Project 6\", \"Cost\": 680000,  \"Status\": \"Failed\"},\n",
    "    {\"ID\": \"A005\", \"Project\": \"Project 7\", \"Cost\": 400000,  \"Status\": \"Finished\"},\n",
    "    {\"ID\": \"A003\", \"Project\": \"Project 8\", \"Cost\": 350000,  \"Status\": \"Failed\"},\n",
    "    {\"ID\": \"A001\", \"Project\": \"Project 9\", \"Cost\": None,     \"Status\": \"Ongoing\"},\n",
    "    {\"ID\": \"A003\", \"Project\": \"Project 10\", \"Cost\": 300000, \"Status\": \"Finished\"},\n",
    "    {\"ID\": \"A001\", \"Project\": \"Project 11\", \"Cost\": 2000000, \"Status\": \"Failed\"},\n",
    "    {\"ID\": \"A004\", \"Project\": \"Project 12\", \"Cost\": 1000000, \"Status\": \"Ongoing\"},\n",
    "    {\"ID\": \"A004\", \"Project\": \"Project 13\", \"Cost\": 3000000, \"Status\": \"Finished\"},\n",
    "    {\"ID\": \"A005\", \"Project\": \"Project 14\", \"Cost\": 200000,  \"Status\": \"Finished\"},\n",
    "]"
   ]
  },
  {
   "cell_type": "code",
   "execution_count": 25,
   "id": "9d148162-d07e-47f6-94fd-0eaa3b92222d",
   "metadata": {},
   "outputs": [],
   "source": [
    "df = pd.DataFrame(data)"
   ]
  },
  {
   "cell_type": "code",
   "execution_count": 27,
   "id": "9fbb6086-4053-47b7-a4b0-4d9ee754f72e",
   "metadata": {},
   "outputs": [],
   "source": [
    "running_sum = 0\n",
    "count = 0\n",
    "\n",
    "for i in range(len(df)):\n",
    "    if pd.isnull(df.loc[i, \"Cost\"]):\n",
    "        # Avoid divide-by-zero if all previous are null (unlikely here)\n",
    "        if count == 0:\n",
    "            df.loc[i, \"Cost\"] = 0\n",
    "        else:\n",
    "            df.loc[i, \"Cost\"] = running_sum / count\n",
    "    else:\n",
    "        running_sum += df.loc[i, \"Cost\"]\n",
    "        count += 1"
   ]
  },
  {
   "cell_type": "code",
   "execution_count": 28,
   "id": "d6e209fe-5593-4e33-9724-f1726b9a3e97",
   "metadata": {
    "scrolled": true
   },
   "outputs": [
    {
     "name": "stdout",
     "output_type": "stream",
     "text": [
      "      ID     Project          Cost    Status\n",
      "0   A001   Project 1  1.002000e+06  Finished\n",
      "1   A002   Project 2  2.000000e+06   Ongoing\n",
      "2   A003   Project 3  4.500000e+06  Finished\n",
      "3   A004   Project 4  5.500000e+06   Ongoing\n",
      "4   A005   Project 5  3.250500e+06  Finished\n",
      "5   A002   Project 6  6.800000e+05    Failed\n",
      "6   A005   Project 7  4.000000e+05  Finished\n",
      "7   A003   Project 8  3.500000e+05    Failed\n",
      "8   A001   Project 9  2.061714e+06   Ongoing\n",
      "9   A003  Project 10  3.000000e+05  Finished\n",
      "10  A001  Project 11  2.000000e+06    Failed\n",
      "11  A004  Project 12  1.000000e+06   Ongoing\n",
      "12  A004  Project 13  3.000000e+06  Finished\n",
      "13  A005  Project 14  2.000000e+05  Finished\n"
     ]
    }
   ],
   "source": [
    "print(df)"
   ]
  },
  {
   "cell_type": "code",
   "execution_count": null,
   "id": "8cc1d68e-9adb-40fd-b50d-a6fdd54529b7",
   "metadata": {},
   "outputs": [],
   "source": [
    "Task 3 :-Split the name column in the Employee dataframe into two new columns “First Name”,\n",
    "and “LastName” and remove the older “name” column."
   ]
  },
  {
   "cell_type": "code",
   "execution_count": 29,
   "id": "686a52d9-c610-4d08-b04b-caaa7519e97d",
   "metadata": {},
   "outputs": [],
   "source": [
    "df = pd.read_csv(\"three_data.csv\")"
   ]
  },
  {
   "cell_type": "code",
   "execution_count": 30,
   "id": "04922a27-60d7-4c20-b009-327b7254ec7b",
   "metadata": {},
   "outputs": [],
   "source": [
    "df[['First Name', 'Last Name']] = df['Name'].str.split(' ', n=1, expand=True)"
   ]
  },
  {
   "cell_type": "code",
   "execution_count": 31,
   "id": "12958c7f-c78b-4f47-8504-cefacdb4d39a",
   "metadata": {},
   "outputs": [],
   "source": [
    "df.drop(columns=['Name'], inplace=True)"
   ]
  },
  {
   "cell_type": "code",
   "execution_count": 32,
   "id": "cd4b6dd0-c42c-430a-8d38-1173c68a1895",
   "metadata": {},
   "outputs": [],
   "source": [
    "df.to_csv(\"employee_data_updated.csv\", index=False)"
   ]
  },
  {
   "cell_type": "code",
   "execution_count": 33,
   "id": "b4cc1d4a-6f3d-4991-8e75-b0db28484a73",
   "metadata": {},
   "outputs": [
    {
     "name": "stdout",
     "output_type": "stream",
     "text": [
      "     ID Gender     City  Age First Name  Last Name\n",
      "0  A001      M    Paris   25       John      Alter\n",
      "1  A002      F   London   27      Alice  Luxumberg\n",
      "2  A003      M   Berlin   29        Tom  Sabestine\n",
      "3  A004      F  Newyork   31       Nina      Adgra\n",
      "4  A005      F   Madrid   30        Amy      Johny\n"
     ]
    }
   ],
   "source": [
    "print(df)"
   ]
  },
  {
   "cell_type": "code",
   "execution_count": null,
   "id": "7dd7c460-9cc2-421f-8bcb-6305574f1207",
   "metadata": {},
   "outputs": [],
   "source": [
    "Task 4 :- Join all three dataframes in one single dataframe. Name it “Final”"
   ]
  },
  {
   "cell_type": "code",
   "execution_count": 34,
   "id": "6858977e-5ec8-4d8f-a98d-d0fbd91ad6b5",
   "metadata": {},
   "outputs": [],
   "source": [
    "project_data = [\n",
    "    {\"ID\": \"A001\", \"Project\": \"Project 1\", \"Cost\": 1002000, \"Status\": \"Finished\"},\n",
    "    {\"ID\": \"A002\", \"Project\": \"Project 2\", \"Cost\": 2000000, \"Status\": \"Ongoing\"},\n",
    "    {\"ID\": \"A003\", \"Project\": \"Project 3\", \"Cost\": 4500000, \"Status\": \"Finished\"},\n",
    "    {\"ID\": \"A004\", \"Project\": \"Project 4\", \"Cost\": 5500000, \"Status\": \"Ongoing\"},\n",
    "    {\"ID\": \"A005\", \"Project\": \"Project 5\", \"Cost\": None,     \"Status\": \"Finished\"},\n",
    "    {\"ID\": \"A002\", \"Project\": \"Project 6\", \"Cost\": 680000,  \"Status\": \"Failed\"},\n",
    "    {\"ID\": \"A005\", \"Project\": \"Project 7\", \"Cost\": 400000,  \"Status\": \"Finished\"},\n",
    "    {\"ID\": \"A003\", \"Project\": \"Project 8\", \"Cost\": 350000,  \"Status\": \"Failed\"},\n",
    "    {\"ID\": \"A001\", \"Project\": \"Project 9\", \"Cost\": None,     \"Status\": \"Ongoing\"},\n",
    "    {\"ID\": \"A003\", \"Project\": \"Project 10\", \"Cost\": 300000, \"Status\": \"Finished\"},\n",
    "    {\"ID\": \"A001\", \"Project\": \"Project 11\", \"Cost\": 2000000, \"Status\": \"Failed\"},\n",
    "    {\"ID\": \"A004\", \"Project\": \"Project 12\", \"Cost\": 1000000, \"Status\": \"Ongoing\"},\n",
    "    {\"ID\": \"A004\", \"Project\": \"Project 13\", \"Cost\": 3000000, \"Status\": \"Finished\"},\n",
    "    {\"ID\": \"A005\", \"Project\": \"Project 14\", \"Cost\": 200000,  \"Status\": \"Finished\"},\n",
    "]"
   ]
  },
  {
   "cell_type": "code",
   "execution_count": 35,
   "id": "9ef1b393-fe11-48d9-a882-08e38aa596ee",
   "metadata": {},
   "outputs": [],
   "source": [
    "project_df = pd.DataFrame(project_data)"
   ]
  },
  {
   "cell_type": "code",
   "execution_count": 36,
   "id": "23f664ce-1fb8-4a5d-88a9-d388101655ec",
   "metadata": {},
   "outputs": [],
   "source": [
    "employee_data = [\n",
    "    {\"ID\": \"A001\", \"Name\": \"John Alter\", \"Gender\": \"M\", \"City\": \"Paris\", \"Age\": 25},\n",
    "    {\"ID\": \"A002\", \"Name\": \"Alice Luxumberg\", \"Gender\": \"F\", \"City\": \"London\", \"Age\": 27},\n",
    "    {\"ID\": \"A003\", \"Name\": \"Tom Sabestine\", \"Gender\": \"M\", \"City\": \"Berlin\", \"Age\": 29},\n",
    "    {\"ID\": \"A004\", \"Name\": \"Nina Adgra\", \"Gender\": \"F\", \"City\": \"Newyork\", \"Age\": 31},\n",
    "    {\"ID\": \"A005\", \"Name\": \"Amy Johny\", \"Gender\": \"F\", \"City\": \"Madrid\", \"Age\": 30},\n",
    "]"
   ]
  },
  {
   "cell_type": "code",
   "execution_count": 37,
   "id": "d978671f-cb34-4c8c-b31a-afa711f23ab1",
   "metadata": {},
   "outputs": [],
   "source": [
    "employee_df = pd.DataFrame(employee_data)"
   ]
  },
  {
   "cell_type": "code",
   "execution_count": 38,
   "id": "9fb398cd-dbf9-4dd6-b27f-ebbbf99dc960",
   "metadata": {},
   "outputs": [],
   "source": [
    "seniority_data = [\n",
    "    {\"ID\": \"A001\", \"Designation Level\": 2},\n",
    "    {\"ID\": \"A002\", \"Designation Level\": 2},\n",
    "    {\"ID\": \"A003\", \"Designation Level\": 3},\n",
    "    {\"ID\": \"A004\", \"Designation Level\": 2},\n",
    "    {\"ID\": \"A005\", \"Designation Level\": 3},\n",
    "]"
   ]
  },
  {
   "cell_type": "code",
   "execution_count": 39,
   "id": "0692db27-506c-4123-95a3-cc462ce9552f",
   "metadata": {},
   "outputs": [],
   "source": [
    "seniority_df = pd.DataFrame(seniority_data)"
   ]
  },
  {
   "cell_type": "code",
   "execution_count": 40,
   "id": "a204a872-2ec0-46a8-80f3-3809cb73e8c1",
   "metadata": {},
   "outputs": [],
   "source": [
    "employee_seniority = pd.merge(employee_df, seniority_df, on=\"ID\", how=\"left\")"
   ]
  },
  {
   "cell_type": "code",
   "execution_count": 41,
   "id": "cd81c7de-3984-4377-98c3-9954045cb965",
   "metadata": {},
   "outputs": [],
   "source": [
    "Final = pd.merge(project_df, employee_seniority, on=\"ID\", how=\"left\")"
   ]
  },
  {
   "cell_type": "code",
   "execution_count": 45,
   "id": "91ccbbd4-4da3-42e1-b9ff-1b2eeac72116",
   "metadata": {},
   "outputs": [
    {
     "name": "stdout",
     "output_type": "stream",
     "text": [
      "      ID     Project       Cost    Status             Name Gender     City  \\\n",
      "0   A001   Project 1  1002000.0  Finished       John Alter      M    Paris   \n",
      "1   A002   Project 2  2000000.0   Ongoing  Alice Luxumberg      F   London   \n",
      "2   A003   Project 3  4500000.0  Finished    Tom Sabestine      M   Berlin   \n",
      "3   A004   Project 4  5500000.0   Ongoing       Nina Adgra      F  Newyork   \n",
      "4   A005   Project 5        NaN  Finished        Amy Johny      F   Madrid   \n",
      "5   A002   Project 6   680000.0    Failed  Alice Luxumberg      F   London   \n",
      "6   A005   Project 7   400000.0  Finished        Amy Johny      F   Madrid   \n",
      "7   A003   Project 8   350000.0    Failed    Tom Sabestine      M   Berlin   \n",
      "8   A001   Project 9        NaN   Ongoing       John Alter      M    Paris   \n",
      "9   A003  Project 10   300000.0  Finished    Tom Sabestine      M   Berlin   \n",
      "10  A001  Project 11  2000000.0    Failed       John Alter      M    Paris   \n",
      "11  A004  Project 12  1000000.0   Ongoing       Nina Adgra      F  Newyork   \n",
      "12  A004  Project 13  3000000.0  Finished       Nina Adgra      F  Newyork   \n",
      "13  A005  Project 14   200000.0  Finished        Amy Johny      F   Madrid   \n",
      "\n",
      "    Age  Designation Level  \n",
      "0    25                  2  \n",
      "1    27                  2  \n",
      "2    29                  3  \n",
      "3    31                  2  \n",
      "4    30                  3  \n",
      "5    27                  2  \n",
      "6    30                  3  \n",
      "7    29                  3  \n",
      "8    25                  2  \n",
      "9    29                  3  \n",
      "10   25                  2  \n",
      "11   31                  2  \n",
      "12   31                  2  \n",
      "13   30                  3  \n"
     ]
    }
   ],
   "source": [
    "print(Final)"
   ]
  },
  {
   "cell_type": "code",
   "execution_count": null,
   "id": "775b88d5-1593-4ab6-95b0-f845f86fbf6a",
   "metadata": {},
   "outputs": [],
   "source": [
    "Task 5:- Add a new bonus column in the Final dataframe. Give a 5% bonus concerning project cost only to employees who have finished the projects."
   ]
  },
  {
   "cell_type": "code",
   "execution_count": 46,
   "id": "1602ec7a-62ad-4f1e-b867-25779923a4a8",
   "metadata": {},
   "outputs": [],
   "source": [
    "Final['Bonus'] = 0 "
   ]
  },
  {
   "cell_type": "code",
   "execution_count": 47,
   "id": "af2ed91b-3392-48bd-a3bd-fb8bfd9a811e",
   "metadata": {},
   "outputs": [],
   "source": [
    "for i in range(len(Final)):\n",
    "    if Final.loc[i, 'Status'] == 'Finished' and pd.notnull(Final.loc[i, 'Cost']):\n",
    "        Final.loc[i, 'Bonus'] = Final.loc[i, 'Cost'] * 0.05"
   ]
  },
  {
   "cell_type": "code",
   "execution_count": 48,
   "id": "774fa02e-f08d-419a-86cb-1177ef8b2af9",
   "metadata": {},
   "outputs": [
    {
     "name": "stdout",
     "output_type": "stream",
     "text": [
      "      ID     Project       Cost    Status             Name Gender     City  \\\n",
      "0   A001   Project 1  1002000.0  Finished       John Alter      M    Paris   \n",
      "1   A002   Project 2  2000000.0   Ongoing  Alice Luxumberg      F   London   \n",
      "2   A003   Project 3  4500000.0  Finished    Tom Sabestine      M   Berlin   \n",
      "3   A004   Project 4  5500000.0   Ongoing       Nina Adgra      F  Newyork   \n",
      "4   A005   Project 5        NaN  Finished        Amy Johny      F   Madrid   \n",
      "5   A002   Project 6   680000.0    Failed  Alice Luxumberg      F   London   \n",
      "6   A005   Project 7   400000.0  Finished        Amy Johny      F   Madrid   \n",
      "7   A003   Project 8   350000.0    Failed    Tom Sabestine      M   Berlin   \n",
      "8   A001   Project 9        NaN   Ongoing       John Alter      M    Paris   \n",
      "9   A003  Project 10   300000.0  Finished    Tom Sabestine      M   Berlin   \n",
      "10  A001  Project 11  2000000.0    Failed       John Alter      M    Paris   \n",
      "11  A004  Project 12  1000000.0   Ongoing       Nina Adgra      F  Newyork   \n",
      "12  A004  Project 13  3000000.0  Finished       Nina Adgra      F  Newyork   \n",
      "13  A005  Project 14   200000.0  Finished        Amy Johny      F   Madrid   \n",
      "\n",
      "    Age  Designation Level   Bonus  \n",
      "0    25                  2   50100  \n",
      "1    27                  2       0  \n",
      "2    29                  3  225000  \n",
      "3    31                  2       0  \n",
      "4    30                  3       0  \n",
      "5    27                  2       0  \n",
      "6    30                  3   20000  \n",
      "7    29                  3       0  \n",
      "8    25                  2       0  \n",
      "9    29                  3   15000  \n",
      "10   25                  2       0  \n",
      "11   31                  2       0  \n",
      "12   31                  2  150000  \n",
      "13   30                  3   10000  \n"
     ]
    }
   ],
   "source": [
    "print(Final)"
   ]
  },
  {
   "cell_type": "code",
   "execution_count": null,
   "id": "0b9901fc-4ef2-496a-b219-dbb071afd329",
   "metadata": {},
   "outputs": [],
   "source": [
    "Task 6:-Demote  the designation  level  by 1,  whose  projects  have  status  “fail”.  Delete  the employees record whose designation level is above 4."
   ]
  },
  {
   "cell_type": "code",
   "execution_count": 50,
   "id": "e6da5202-ddd9-4f80-a8db-f0d97074973e",
   "metadata": {},
   "outputs": [],
   "source": [
    "failed_ids = Final[Final['Status'].str.lower() == 'failed']['ID'].unique()"
   ]
  },
  {
   "cell_type": "code",
   "execution_count": 51,
   "id": "a6d6c736-c65a-4f00-a832-7443ed02c21b",
   "metadata": {},
   "outputs": [],
   "source": [
    "for i in range(len(Final)):\n",
    "    if Final.loc[i, 'ID'] in failed_ids:\n",
    "        Final.loc[i, 'Designation Level'] -= 1"
   ]
  },
  {
   "cell_type": "code",
   "execution_count": 52,
   "id": "2004dc2c-ae4f-44fd-8802-68bc2355b7a6",
   "metadata": {},
   "outputs": [],
   "source": [
    "Final = Final[Final['Designation Level'] <= 4]"
   ]
  },
  {
   "cell_type": "code",
   "execution_count": 53,
   "id": "a1aa69bb-b34d-4b9e-a78e-c699ee775db3",
   "metadata": {},
   "outputs": [],
   "source": [
    "Final.reset_index(drop=True, inplace=True)"
   ]
  },
  {
   "cell_type": "code",
   "execution_count": 62,
   "id": "af2ae27c-f3b0-4b7e-8993-cc9000117e20",
   "metadata": {},
   "outputs": [
    {
     "name": "stdout",
     "output_type": "stream",
     "text": [
      "      ID     Project       Cost    Status             Name     City  Age  \\\n",
      "0   A001   Project 1  1002000.0  Finished       John Alter    Paris   25   \n",
      "1   A002   Project 2  2000000.0   Ongoing  Alice Luxumberg   London   27   \n",
      "2   A003   Project 3  4500000.0  Finished    Tom Sabestine   Berlin   29   \n",
      "3   A004   Project 4  5500000.0   Ongoing       Nina Adgra  Newyork   31   \n",
      "4   A005   Project 5        NaN  Finished        Amy Johny   Madrid   30   \n",
      "5   A002   Project 6   680000.0    Failed  Alice Luxumberg   London   27   \n",
      "6   A005   Project 7   400000.0  Finished        Amy Johny   Madrid   30   \n",
      "7   A003   Project 8   350000.0    Failed    Tom Sabestine   Berlin   29   \n",
      "8   A001   Project 9        NaN   Ongoing       John Alter    Paris   25   \n",
      "9   A003  Project 10   300000.0  Finished    Tom Sabestine   Berlin   29   \n",
      "10  A001  Project 11  2000000.0    Failed       John Alter    Paris   25   \n",
      "11  A004  Project 12  1000000.0   Ongoing       Nina Adgra  Newyork   31   \n",
      "12  A004  Project 13  3000000.0  Finished       Nina Adgra  Newyork   31   \n",
      "13  A005  Project 14   200000.0  Finished        Amy Johny   Madrid   30   \n",
      "\n",
      "    Designation Level   Bonus  \n",
      "0                   1   50100  \n",
      "1                   1       0  \n",
      "2                   2  225000  \n",
      "3                   2       0  \n",
      "4                   3       0  \n",
      "5                   1       0  \n",
      "6                   3   20000  \n",
      "7                   2       0  \n",
      "8                   1       0  \n",
      "9                   2   15000  \n",
      "10                  1       0  \n",
      "11                  2       0  \n",
      "12                  2  150000  \n",
      "13                  3   10000  \n"
     ]
    }
   ],
   "source": [
    "print(Final)"
   ]
  },
  {
   "cell_type": "code",
   "execution_count": 63,
   "id": "74ed478d-cf6d-4ec9-92af-a8665f2e2c43",
   "metadata": {},
   "outputs": [],
   "source": [
    "data = {\n",
    "    \"ID\": [\"A001\", \"A002\", \"A003\", \"A004\", \"A005\", \"A002\", \"A005\", \"A003\", \"A001\", \"A003\", \"A001\", \"A004\", \"A004\", \"A005\"],\n",
    "    \"Project\": [\"Project 1\", \"Project 2\", \"Project 3\", \"Project 4\", \"Project 5\", \"Project 6\", \"Project 7\", \"Project 8\", \"Project 9\", \"Project 10\", \"Project 11\", \"Project 12\", \"Project 13\", \"Project 14\"],\n",
    "    \"Cost\": [1002000, 2000000, 4500000, 5500000, None, 680000, 400000, 350000, None, 300000, 2000000, 1000000, 3000000, 200000],\n",
    "    \"Status\": [\"Finished\", \"Ongoing\", \"Finished\", \"Ongoing\", \"Finished\", \"Failed\", \"Finished\", \"Failed\", \"Ongoing\", \"Finished\", \"Failed\", \"Ongoing\", \"Finished\", \"Finished\"],\n",
    "    \"Name\": [\"John Alter\", \"Alice Luxumberg\", \"Tom Sabestine\", \"Nina Adgra\", \"Amy Johny\", \"Alice Luxumberg\", \"Amy Johny\", \"Tom Sabestine\", \"John Alter\", \"Tom Sabestine\", \"John Alter\", \"Nina Adgra\", \"Nina Adgra\", \"Amy Johny\"],\n",
    "    \"City\": [\"Paris\", \"London\", \"Berlin\", \"Newyork\", \"Madrid\", \"London\", \"Madrid\", \"Berlin\", \"Paris\", \"Berlin\", \"Paris\", \"Newyork\", \"Newyork\", \"Madrid\"],\n",
    "    \"Age\": [25, 27, 29, 31, 30, 27, 30, 29, 25, 29, 25, 31, 31, 30],\n",
    "    \"Designation Level\": [2, 2, 3, 2, 3, 2, 3, 3, 2, 3, 2, 2, 2, 3]\n",
    "}"
   ]
  },
  {
   "cell_type": "code",
   "execution_count": 64,
   "id": "a2475f0a-c199-4d0c-bd9f-e5b9a1fa345e",
   "metadata": {},
   "outputs": [],
   "source": [
    "df = pd.DataFrame(data)\n"
   ]
  },
  {
   "cell_type": "code",
   "execution_count": 65,
   "id": "9a51277a-85a8-4e4a-bf25-efbdc3794ba4",
   "metadata": {},
   "outputs": [],
   "source": [
    "gender_list = ['M', 'F', 'M', 'F', 'F', 'F', 'F', 'M', 'M', 'M', 'M', 'F', 'F', 'F']\n"
   ]
  },
  {
   "cell_type": "code",
   "execution_count": 66,
   "id": "5c613f59-7a84-4f7e-8d2e-c4da34b62c5f",
   "metadata": {},
   "outputs": [],
   "source": [
    "df['Gender'] = gender_list\n"
   ]
  },
  {
   "cell_type": "code",
   "execution_count": 67,
   "id": "a3aa4c99-7ccd-42cb-995b-e9e953e6a6ac",
   "metadata": {},
   "outputs": [
    {
     "name": "stdout",
     "output_type": "stream",
     "text": [
      "      ID     Project       Cost    Status             Name     City  Age  \\\n",
      "0   A001   Project 1  1002000.0  Finished       John Alter    Paris   25   \n",
      "1   A002   Project 2  2000000.0   Ongoing  Alice Luxumberg   London   27   \n",
      "2   A003   Project 3  4500000.0  Finished    Tom Sabestine   Berlin   29   \n",
      "3   A004   Project 4  5500000.0   Ongoing       Nina Adgra  Newyork   31   \n",
      "4   A005   Project 5        NaN  Finished        Amy Johny   Madrid   30   \n",
      "5   A002   Project 6   680000.0    Failed  Alice Luxumberg   London   27   \n",
      "6   A005   Project 7   400000.0  Finished        Amy Johny   Madrid   30   \n",
      "7   A003   Project 8   350000.0    Failed    Tom Sabestine   Berlin   29   \n",
      "8   A001   Project 9        NaN   Ongoing       John Alter    Paris   25   \n",
      "9   A003  Project 10   300000.0  Finished    Tom Sabestine   Berlin   29   \n",
      "10  A001  Project 11  2000000.0    Failed       John Alter    Paris   25   \n",
      "11  A004  Project 12  1000000.0   Ongoing       Nina Adgra  Newyork   31   \n",
      "12  A004  Project 13  3000000.0  Finished       Nina Adgra  Newyork   31   \n",
      "13  A005  Project 14   200000.0  Finished        Amy Johny   Madrid   30   \n",
      "\n",
      "    Designation Level Gender  \n",
      "0                   2      M  \n",
      "1                   2      F  \n",
      "2                   3      M  \n",
      "3                   2      F  \n",
      "4                   3      F  \n",
      "5                   2      F  \n",
      "6                   3      F  \n",
      "7                   3      M  \n",
      "8                   2      M  \n",
      "9                   3      M  \n",
      "10                  2      M  \n",
      "11                  2      F  \n",
      "12                  2      F  \n",
      "13                  3      F  \n"
     ]
    }
   ],
   "source": [
    "print(df)"
   ]
  },
  {
   "cell_type": "code",
   "execution_count": null,
   "id": "6d533b14-301e-47f0-8c15-117fd7680ec8",
   "metadata": {},
   "outputs": [],
   "source": [
    "Task 7:- Add “Mr.” and “Mrs.” to the first name column and drop the gender column."
   ]
  },
  {
   "cell_type": "code",
   "execution_count": 68,
   "id": "d50dd85b-fd38-4cf5-841d-38f47a4cbe40",
   "metadata": {},
   "outputs": [],
   "source": [
    "df[['First Name', 'Last Name']] = df['Name'].str.split(' ', n=1, expand=True)"
   ]
  },
  {
   "cell_type": "code",
   "execution_count": 69,
   "id": "e97bd307-33cb-4a8b-806f-c87760965f70",
   "metadata": {},
   "outputs": [],
   "source": [
    "df['First Name'] = df.apply(\n",
    "    lambda row: f\"Mr. {row['First Name']}\" if row['Gender'] == 'M' else f\"Mrs. {row['First Name']}\",\n",
    "    axis=1\n",
    ")"
   ]
  },
  {
   "cell_type": "code",
   "execution_count": 70,
   "id": "02fc683a-7667-426b-8979-66323ce2cfd7",
   "metadata": {},
   "outputs": [
    {
     "name": "stdout",
     "output_type": "stream",
     "text": [
      "      ID  First Name  Last Name Gender     Project       Cost    Status  \\\n",
      "0   A001    Mr. John      Alter      M   Project 1  1002000.0  Finished   \n",
      "1   A002  Mrs. Alice  Luxumberg      F   Project 2  2000000.0   Ongoing   \n",
      "2   A003     Mr. Tom  Sabestine      M   Project 3  4500000.0  Finished   \n",
      "3   A004   Mrs. Nina      Adgra      F   Project 4  5500000.0   Ongoing   \n",
      "4   A005    Mrs. Amy      Johny      F   Project 5        NaN  Finished   \n",
      "5   A002  Mrs. Alice  Luxumberg      F   Project 6   680000.0    Failed   \n",
      "6   A005    Mrs. Amy      Johny      F   Project 7   400000.0  Finished   \n",
      "7   A003     Mr. Tom  Sabestine      M   Project 8   350000.0    Failed   \n",
      "8   A001    Mr. John      Alter      M   Project 9        NaN   Ongoing   \n",
      "9   A003     Mr. Tom  Sabestine      M  Project 10   300000.0  Finished   \n",
      "10  A001    Mr. John      Alter      M  Project 11  2000000.0    Failed   \n",
      "11  A004   Mrs. Nina      Adgra      F  Project 12  1000000.0   Ongoing   \n",
      "12  A004   Mrs. Nina      Adgra      F  Project 13  3000000.0  Finished   \n",
      "13  A005    Mrs. Amy      Johny      F  Project 14   200000.0  Finished   \n",
      "\n",
      "       City  Age  Designation Level  \n",
      "0     Paris   25                  2  \n",
      "1    London   27                  2  \n",
      "2    Berlin   29                  3  \n",
      "3   Newyork   31                  2  \n",
      "4    Madrid   30                  3  \n",
      "5    London   27                  2  \n",
      "6    Madrid   30                  3  \n",
      "7    Berlin   29                  3  \n",
      "8     Paris   25                  2  \n",
      "9    Berlin   29                  3  \n",
      "10    Paris   25                  2  \n",
      "11  Newyork   31                  2  \n",
      "12  Newyork   31                  2  \n",
      "13   Madrid   30                  3  \n"
     ]
    }
   ],
   "source": [
    "print(df[['ID', 'First Name', 'Last Name', 'Gender', 'Project', 'Cost', 'Status', 'City', 'Age', 'Designation Level']])"
   ]
  },
  {
   "cell_type": "code",
   "execution_count": 71,
   "id": "1821a11d-c42a-4999-95d6-765ef875a93f",
   "metadata": {},
   "outputs": [],
   "source": [
    "df.drop(columns=['Gender'], inplace=True)"
   ]
  },
  {
   "cell_type": "code",
   "execution_count": 77,
   "id": "d807d739-e3ad-4358-8a11-61b62413e168",
   "metadata": {},
   "outputs": [
    {
     "name": "stdout",
     "output_type": "stream",
     "text": [
      "      ID     Project       Cost    Status             Name     City  Age  \\\n",
      "0   A001   Project 1  1002000.0  Finished       John Alter    Paris   25   \n",
      "1   A002   Project 2  2000000.0   Ongoing  Alice Luxumberg   London   27   \n",
      "2   A003   Project 3  4500000.0  Finished    Tom Sabestine   Berlin   29   \n",
      "3   A004   Project 4  5500000.0   Ongoing       Nina Adgra  Newyork   31   \n",
      "4   A005   Project 5        NaN  Finished        Amy Johny   Madrid   30   \n",
      "5   A002   Project 6   680000.0    Failed  Alice Luxumberg   London   27   \n",
      "6   A005   Project 7   400000.0  Finished        Amy Johny   Madrid   30   \n",
      "7   A003   Project 8   350000.0    Failed    Tom Sabestine   Berlin   29   \n",
      "8   A001   Project 9        NaN   Ongoing       John Alter    Paris   25   \n",
      "9   A003  Project 10   300000.0  Finished    Tom Sabestine   Berlin   29   \n",
      "10  A001  Project 11  2000000.0    Failed       John Alter    Paris   25   \n",
      "11  A004  Project 12  1000000.0   Ongoing       Nina Adgra  Newyork   31   \n",
      "12  A004  Project 13  3000000.0  Finished       Nina Adgra  Newyork   31   \n",
      "13  A005  Project 14   200000.0  Finished        Amy Johny   Madrid   30   \n",
      "\n",
      "    Designation Level  First Name  Last Name  \n",
      "0                   2    Mr. John      Alter  \n",
      "1                   2  Mrs. Alice  Luxumberg  \n",
      "2                   3     Mr. Tom  Sabestine  \n",
      "3                   4   Mrs. Nina      Adgra  \n",
      "4                   5    Mrs. Amy      Johny  \n",
      "5                   2  Mrs. Alice  Luxumberg  \n",
      "6                   5    Mrs. Amy      Johny  \n",
      "7                   3     Mr. Tom  Sabestine  \n",
      "8                   2    Mr. John      Alter  \n",
      "9                   3     Mr. Tom  Sabestine  \n",
      "10                  2    Mr. John      Alter  \n",
      "11                  4   Mrs. Nina      Adgra  \n",
      "12                  4   Mrs. Nina      Adgra  \n",
      "13                  5    Mrs. Amy      Johny  \n"
     ]
    }
   ],
   "source": [
    "print(df)"
   ]
  },
  {
   "cell_type": "code",
   "execution_count": null,
   "id": "b3710f8f-df82-44f2-88c6-9cce86029c33",
   "metadata": {},
   "outputs": [],
   "source": [
    "Task 8:-Promote designation level by 1 for the employees whose age is more than 29 years using IF condition."
   ]
  },
  {
   "cell_type": "code",
   "execution_count": 78,
   "id": "9843aff2-02be-4ce9-9e72-de66533ceeb2",
   "metadata": {},
   "outputs": [],
   "source": [
    "for i in range(len(df)):\n",
    "    if df.loc[i, 'Age'] > 29:\n",
    "        df.loc[i, 'Designation Level'] = df.loc[i, 'Designation Level'] + 1"
   ]
  },
  {
   "cell_type": "code",
   "execution_count": 79,
   "id": "5716efaf-8240-4881-a6bc-ef4dec899003",
   "metadata": {},
   "outputs": [
    {
     "name": "stdout",
     "output_type": "stream",
     "text": [
      "      ID     Project       Cost    Status             Name     City  Age  \\\n",
      "0   A001   Project 1  1002000.0  Finished       John Alter    Paris   25   \n",
      "1   A002   Project 2  2000000.0   Ongoing  Alice Luxumberg   London   27   \n",
      "2   A003   Project 3  4500000.0  Finished    Tom Sabestine   Berlin   29   \n",
      "3   A004   Project 4  5500000.0   Ongoing       Nina Adgra  Newyork   31   \n",
      "4   A005   Project 5        NaN  Finished        Amy Johny   Madrid   30   \n",
      "5   A002   Project 6   680000.0    Failed  Alice Luxumberg   London   27   \n",
      "6   A005   Project 7   400000.0  Finished        Amy Johny   Madrid   30   \n",
      "7   A003   Project 8   350000.0    Failed    Tom Sabestine   Berlin   29   \n",
      "8   A001   Project 9        NaN   Ongoing       John Alter    Paris   25   \n",
      "9   A003  Project 10   300000.0  Finished    Tom Sabestine   Berlin   29   \n",
      "10  A001  Project 11  2000000.0    Failed       John Alter    Paris   25   \n",
      "11  A004  Project 12  1000000.0   Ongoing       Nina Adgra  Newyork   31   \n",
      "12  A004  Project 13  3000000.0  Finished       Nina Adgra  Newyork   31   \n",
      "13  A005  Project 14   200000.0  Finished        Amy Johny   Madrid   30   \n",
      "\n",
      "    Designation Level  First Name  Last Name  \n",
      "0                   2    Mr. John      Alter  \n",
      "1                   2  Mrs. Alice  Luxumberg  \n",
      "2                   3     Mr. Tom  Sabestine  \n",
      "3                   5   Mrs. Nina      Adgra  \n",
      "4                   6    Mrs. Amy      Johny  \n",
      "5                   2  Mrs. Alice  Luxumberg  \n",
      "6                   6    Mrs. Amy      Johny  \n",
      "7                   3     Mr. Tom  Sabestine  \n",
      "8                   2    Mr. John      Alter  \n",
      "9                   3     Mr. Tom  Sabestine  \n",
      "10                  2    Mr. John      Alter  \n",
      "11                  5   Mrs. Nina      Adgra  \n",
      "12                  5   Mrs. Nina      Adgra  \n",
      "13                  6    Mrs. Amy      Johny  \n"
     ]
    }
   ],
   "source": [
    "print(df)"
   ]
  },
  {
   "cell_type": "code",
   "execution_count": null,
   "id": "0b2f5970-5fc8-41a4-b0f1-f6cebd5cc0e3",
   "metadata": {},
   "outputs": [],
   "source": [
    "Task 9:- Add  the  cost  of  all  projects  for  each  Employee  and  save  it  in  new  dataframe"
   ]
  },
  {
   "cell_type": "code",
   "execution_count": 84,
   "id": "fda07399-6386-430a-bd12-5d64d8ac26de",
   "metadata": {},
   "outputs": [],
   "source": [
    "df[['First Name', 'Last Name']] = df['Name'].str.split(' ', n=1, expand=True)"
   ]
  },
  {
   "cell_type": "code",
   "execution_count": 85,
   "id": "679d32ca-d72e-44d4-8b7f-5d33a1564fe7",
   "metadata": {},
   "outputs": [],
   "source": [
    "df['Cost'] = pd.to_numeric(df['Cost'], errors='coerce')"
   ]
  },
  {
   "cell_type": "code",
   "execution_count": 86,
   "id": "d98bacc6-459f-4d6a-a52b-a4aebbd0f482",
   "metadata": {},
   "outputs": [],
   "source": [
    "TotalProjCost = df.groupby(['ID', 'First Name'])['Cost'].sum().reset_index()\n"
   ]
  },
  {
   "cell_type": "code",
   "execution_count": 87,
   "id": "0b6ef88c-239e-406d-8a05-32c236a51435",
   "metadata": {},
   "outputs": [],
   "source": [
    "TotalProjCost.rename(columns={'Cost': 'Total Cost'}, inplace=True)"
   ]
  },
  {
   "cell_type": "code",
   "execution_count": 88,
   "id": "83a5ed47-41e3-4a19-855f-f7f86ed1683b",
   "metadata": {},
   "outputs": [
    {
     "name": "stdout",
     "output_type": "stream",
     "text": [
      "     ID First Name  Total Cost\n",
      "0  A001       John   3002000.0\n",
      "1  A002      Alice   2680000.0\n",
      "2  A003        Tom   5150000.0\n",
      "3  A004       Nina   9500000.0\n",
      "4  A005        Amy    600000.0\n"
     ]
    }
   ],
   "source": [
    "print(TotalProjCost)"
   ]
  },
  {
   "cell_type": "code",
   "execution_count": null,
   "id": "1a6847f7-8cef-45bf-99cb-d93ca69c79d3",
   "metadata": {},
   "outputs": [],
   "source": [
    "Task 10:-Print all the employee details whose city name contains the letter “o” in it.\""
   ]
  },
  {
   "cell_type": "code",
   "execution_count": 89,
   "id": "85675d70-cd61-45f5-b44e-9ed1a1c7f595",
   "metadata": {},
   "outputs": [],
   "source": [
    "employees_with_o = df[df['City'].str.contains('o', case=False, na=False)]"
   ]
  },
  {
   "cell_type": "code",
   "execution_count": 90,
   "id": "9b38b6d3-c1c4-4b4a-9044-f2bf4a1fe51f",
   "metadata": {},
   "outputs": [
    {
     "name": "stdout",
     "output_type": "stream",
     "text": [
      "      ID     Project       Cost    Status             Name     City  Age  \\\n",
      "1   A002   Project 2  2000000.0   Ongoing  Alice Luxumberg   London   27   \n",
      "3   A004   Project 4  5500000.0   Ongoing       Nina Adgra  Newyork   31   \n",
      "5   A002   Project 6   680000.0    Failed  Alice Luxumberg   London   27   \n",
      "11  A004  Project 12  1000000.0   Ongoing       Nina Adgra  Newyork   31   \n",
      "12  A004  Project 13  3000000.0  Finished       Nina Adgra  Newyork   31   \n",
      "\n",
      "    Designation Level First Name  Last Name  \n",
      "1                   2      Alice  Luxumberg  \n",
      "3                   5       Nina      Adgra  \n",
      "5                   2      Alice  Luxumberg  \n",
      "11                  5       Nina      Adgra  \n",
      "12                  5       Nina      Adgra  \n"
     ]
    }
   ],
   "source": [
    "print(employees_with_o)"
   ]
  },
  {
   "cell_type": "code",
   "execution_count": null,
   "id": "967b125e-65a2-4fee-b16f-4500433a0605",
   "metadata": {},
   "outputs": [],
   "source": []
  }
 ],
 "metadata": {
  "kernelspec": {
   "display_name": "Python 3 (ipykernel)",
   "language": "python",
   "name": "python3"
  },
  "language_info": {
   "codemirror_mode": {
    "name": "ipython",
    "version": 3
   },
   "file_extension": ".py",
   "mimetype": "text/x-python",
   "name": "python",
   "nbconvert_exporter": "python",
   "pygments_lexer": "ipython3",
   "version": "3.13.5"
  }
 },
 "nbformat": 4,
 "nbformat_minor": 5
}
